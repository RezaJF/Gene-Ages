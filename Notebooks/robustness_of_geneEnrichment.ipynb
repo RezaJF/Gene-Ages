{
 "cells": [
  {
   "cell_type": "markdown",
   "metadata": {},
   "source": [
    "# Sensitivity of enrichment analysis to quality trimming\n",
    "\n",
    "In this sheet we explore how trimming the gene-age data by various quality measures affects enrichment analysis of gene ontology and other terms"
   ]
  },
  {
   "cell_type": "code",
   "execution_count": 1,
   "metadata": {
    "collapsed": true
   },
   "outputs": [],
   "source": [
    "import numpy as np\n",
    "import pandas as pd\n",
    "from matplotlib import pyplot as plt\n",
    "%matplotlib inline"
   ]
  },
  {
   "cell_type": "markdown",
   "metadata": {},
   "source": [
    "### First we'll take a look at the data and the distributions of different quality measures"
   ]
  },
  {
   "cell_type": "code",
   "execution_count": 7,
   "metadata": {
    "collapsed": false
   },
   "outputs": [
    {
     "data": {
      "text/html": [
       "<div style=\"max-height:1000px;max-width:1500px;overflow:auto;\">\n",
       "<table border=\"1\" class=\"dataframe\">\n",
       "  <thead>\n",
       "    <tr style=\"text-align: right;\">\n",
       "      <th></th>\n",
       "      <th>Cellular_organisms</th>\n",
       "      <th>Euk+Bac</th>\n",
       "      <th>Euk_Archaea</th>\n",
       "      <th>Eukaryota</th>\n",
       "      <th>Opisthokonta</th>\n",
       "      <th>Eumetazoa</th>\n",
       "      <th>Vertebrata</th>\n",
       "      <th>Mammalia</th>\n",
       "      <th>modeAge</th>\n",
       "      <th>NumDBsContributing</th>\n",
       "      <th>...</th>\n",
       "      <th>RSD</th>\n",
       "      <th>EggNOG</th>\n",
       "      <th>Orthoinspector</th>\n",
       "      <th>Hieranoid_2</th>\n",
       "      <th>EnsemblCompara_v2</th>\n",
       "      <th>PANTHER8_all</th>\n",
       "      <th>Metaphors</th>\n",
       "      <th>PhylomeDB</th>\n",
       "      <th>Avg</th>\n",
       "      <th>HGT_flag</th>\n",
       "    </tr>\n",
       "  </thead>\n",
       "  <tbody>\n",
       "    <tr>\n",
       "      <th>A0A075B6G5</th>\n",
       "      <td>0</td>\n",
       "      <td>0</td>\n",
       "      <td>0</td>\n",
       "      <td>0</td>\n",
       "      <td>0</td>\n",
       "      <td>1.000000</td>\n",
       "      <td>0</td>\n",
       "      <td>0.000000</td>\n",
       "      <td>Eumetazoa</td>\n",
       "      <td>1</td>\n",
       "      <td>...</td>\n",
       "      <td>1</td>\n",
       "      <td>1</td>\n",
       "      <td>1</td>\n",
       "      <td>1</td>\n",
       "      <td>1</td>\n",
       "      <td>1</td>\n",
       "      <td>27</td>\n",
       "      <td>12</td>\n",
       "      <td>1.916667</td>\n",
       "      <td>False</td>\n",
       "    </tr>\n",
       "    <tr>\n",
       "      <th>A0A075B6R3</th>\n",
       "      <td>0</td>\n",
       "      <td>0</td>\n",
       "      <td>0</td>\n",
       "      <td>0</td>\n",
       "      <td>0</td>\n",
       "      <td>0.000000</td>\n",
       "      <td>0</td>\n",
       "      <td>1.000000</td>\n",
       "      <td>Mammalia</td>\n",
       "      <td>2</td>\n",
       "      <td>...</td>\n",
       "      <td>1</td>\n",
       "      <td>1</td>\n",
       "      <td>1</td>\n",
       "      <td>1</td>\n",
       "      <td>37</td>\n",
       "      <td>1</td>\n",
       "      <td>1</td>\n",
       "      <td>1</td>\n",
       "      <td>1.333333</td>\n",
       "      <td>False</td>\n",
       "    </tr>\n",
       "    <tr>\n",
       "      <th>A0A0A0MR89</th>\n",
       "      <td>0</td>\n",
       "      <td>0</td>\n",
       "      <td>0</td>\n",
       "      <td>0</td>\n",
       "      <td>0</td>\n",
       "      <td>1.000000</td>\n",
       "      <td>0</td>\n",
       "      <td>0.000000</td>\n",
       "      <td>Eumetazoa</td>\n",
       "      <td>1</td>\n",
       "      <td>...</td>\n",
       "      <td>1</td>\n",
       "      <td>1</td>\n",
       "      <td>1</td>\n",
       "      <td>1</td>\n",
       "      <td>1</td>\n",
       "      <td>1</td>\n",
       "      <td>4</td>\n",
       "      <td>7</td>\n",
       "      <td>1.250000</td>\n",
       "      <td>False</td>\n",
       "    </tr>\n",
       "    <tr>\n",
       "      <th>A0A0A0MS98</th>\n",
       "      <td>0</td>\n",
       "      <td>0</td>\n",
       "      <td>0</td>\n",
       "      <td>0</td>\n",
       "      <td>0</td>\n",
       "      <td>0.454545</td>\n",
       "      <td>0</td>\n",
       "      <td>0.545455</td>\n",
       "      <td>Mammalia</td>\n",
       "      <td>11</td>\n",
       "      <td>...</td>\n",
       "      <td>0</td>\n",
       "      <td>1</td>\n",
       "      <td>11</td>\n",
       "      <td>0</td>\n",
       "      <td>10</td>\n",
       "      <td>16</td>\n",
       "      <td>0</td>\n",
       "      <td>18</td>\n",
       "      <td>5.076923</td>\n",
       "      <td>False</td>\n",
       "    </tr>\n",
       "    <tr>\n",
       "      <th>A0A0A0MSJ3</th>\n",
       "      <td>0</td>\n",
       "      <td>0</td>\n",
       "      <td>0</td>\n",
       "      <td>1</td>\n",
       "      <td>0</td>\n",
       "      <td>0.000000</td>\n",
       "      <td>0</td>\n",
       "      <td>0.000000</td>\n",
       "      <td>Eukaryota</td>\n",
       "      <td>2</td>\n",
       "      <td>...</td>\n",
       "      <td>1</td>\n",
       "      <td>1</td>\n",
       "      <td>1</td>\n",
       "      <td>1</td>\n",
       "      <td>1</td>\n",
       "      <td>1</td>\n",
       "      <td>7</td>\n",
       "      <td>2</td>\n",
       "      <td>1.538462</td>\n",
       "      <td>False</td>\n",
       "    </tr>\n",
       "  </tbody>\n",
       "</table>\n",
       "<p>5 rows × 29 columns</p>\n",
       "</div>"
      ],
      "text/plain": [
       "            Cellular_organisms  Euk+Bac  Euk_Archaea  Eukaryota  Opisthokonta  \\\n",
       "A0A075B6G5                   0        0            0          0             0   \n",
       "A0A075B6R3                   0        0            0          0             0   \n",
       "A0A0A0MR89                   0        0            0          0             0   \n",
       "A0A0A0MS98                   0        0            0          0             0   \n",
       "A0A0A0MSJ3                   0        0            0          1             0   \n",
       "\n",
       "            Eumetazoa  Vertebrata  Mammalia    modeAge  NumDBsContributing  \\\n",
       "A0A075B6G5   1.000000           0  0.000000  Eumetazoa                   1   \n",
       "A0A075B6R3   0.000000           0  1.000000   Mammalia                   2   \n",
       "A0A0A0MR89   1.000000           0  0.000000  Eumetazoa                   1   \n",
       "A0A0A0MS98   0.454545           0  0.545455   Mammalia                  11   \n",
       "A0A0A0MSJ3   0.000000           0  0.000000  Eukaryota                   2   \n",
       "\n",
       "              ...     RSD  EggNOG Orthoinspector  Hieranoid_2  \\\n",
       "A0A075B6G5    ...       1       1              1            1   \n",
       "A0A075B6R3    ...       1       1              1            1   \n",
       "A0A0A0MR89    ...       1       1              1            1   \n",
       "A0A0A0MS98    ...       0       1             11            0   \n",
       "A0A0A0MSJ3    ...       1       1              1            1   \n",
       "\n",
       "            EnsemblCompara_v2  PANTHER8_all  Metaphors  PhylomeDB       Avg  \\\n",
       "A0A075B6G5                  1             1         27         12  1.916667   \n",
       "A0A075B6R3                 37             1          1          1  1.333333   \n",
       "A0A0A0MR89                  1             1          4          7  1.250000   \n",
       "A0A0A0MS98                 10            16          0         18  5.076923   \n",
       "A0A0A0MSJ3                  1             1          7          2  1.538462   \n",
       "\n",
       "            HGT_flag  \n",
       "A0A075B6G5     False  \n",
       "A0A075B6R3     False  \n",
       "A0A0A0MR89     False  \n",
       "A0A0A0MS98     False  \n",
       "A0A0A0MSJ3     False  \n",
       "\n",
       "[5 rows x 29 columns]"
      ]
     },
     "execution_count": 7,
     "metadata": {},
     "output_type": "execute_result"
    }
   ],
   "source": [
    "con = pd.read_csv(\"../main_HUMAN.csv\",index_col=0)\n",
    "con.head()"
   ]
  },
  {
   "cell_type": "markdown",
   "metadata": {},
   "source": [
    "### Histogram of entropy values\n",
    "\n",
    "This measure gives the Shannon entropy of the normalized distribution of age-calls from the different algorithms"
   ]
  },
  {
   "cell_type": "code",
   "execution_count": 8,
   "metadata": {
    "collapsed": false
   },
   "outputs": [
    {
     "data": {
      "text/plain": [
       "<matplotlib.axes.AxesSubplot at 0xa720e0c>"
      ]
     },
     "execution_count": 8,
     "metadata": {},
     "output_type": "execute_result"
    },
    {
     "data": {
      "image/png": "[encoded data removed]",
      "text/plain": [
       "<matplotlib.figure.Figure at 0xa71bd4c>"
      ]
     },
     "metadata": {},
     "output_type": "display_data"
    }
   ],
   "source": [
    "con[\"entropy\"].hist(bins=50,color='grey')"
   ]
  },
  {
   "cell_type": "markdown",
   "metadata": {},
   "source": [
    "### Histogram of the number of algorithms contributing to each gene's age call"
   ]
  },
  {
   "cell_type": "code",
   "execution_count": 9,
   "metadata": {
    "collapsed": false
   },
   "outputs": [
    {
     "data": {
      "text/plain": [
       "<matplotlib.axes.AxesSubplot at 0xa21b28c>"
      ]
     },
     "execution_count": 9,
     "metadata": {},
     "output_type": "execute_result"
    },
    {
     "data": {
      "image/png": "[encoded data removed]",
      "text/plain": [
       "<matplotlib.figure.Figure at 0xa0998ec>"
      ]
     },
     "metadata": {},
     "output_type": "display_data"
    }
   ],
   "source": [
    "con[\"NumDBsContributing\"].hist(bins=13,color='grey')"
   ]
  },
  {
   "cell_type": "markdown",
   "metadata": {},
   "source": [
    "### Histogram of bimodality values"
   ]
  },
  {
   "cell_type": "code",
   "execution_count": 10,
   "metadata": {
    "collapsed": false
   },
   "outputs": [
    {
     "data": {
      "text/plain": [
       "<matplotlib.axes.AxesSubplot at 0xa82a3ac>"
      ]
     },
     "execution_count": 10,
     "metadata": {},
     "output_type": "execute_result"
    },
    {
     "data": {
      "image/png": "[encoded data removed]",
      "text/plain": [
       "<matplotlib.figure.Figure at 0xa82ff4c>"
      ]
     },
     "metadata": {},
     "output_type": "display_data"
    }
   ],
   "source": [
    "con[\"Bimodality\"].hist(bins=50,color='grey')"
   ]
  },
  {
   "cell_type": "markdown",
   "metadata": {},
   "source": [
    "# Filtering parameters\n",
    "\n",
    "Now we define 5 different datasets with different amounts of quality filter, ranged from least to most stringent\n",
    "\n",
    "### Dataset 1 - No filters\n",
    "    - All proteins included\n",
    "### Dataset 2 - Just entropy\n",
    "    - Entropy: < 1\n",
    "    - HGT: No filter\n",
    "    - NumDBsContributing: No Filter\n",
    "    - Bimodality: No Filter\n",
    "### Dataset 3 - Just HGT flags\n",
    "    - Entropy: No Filter\n",
    "    - HGT: Remove flagged proteins\n",
    "    - NumDBsContributing: No Filter\n",
    "    - Bimodality: No Filter\n",
    "### Dataset 4 - Just number of algorithms contributing to final age\n",
    "    - Entropy: No Filter\n",
    "    - HGT: No Filter\n",
    "    - NumDBsContributing: > 3\n",
    "    - Bimodality: No Filter\n",
    "### Dataset 5 - Just bimodality metric\n",
    "    - Entropy: No Filter\n",
    "    - HGT: No Filter\n",
    "    - NumDBsContributing: No Filter\n",
    "    - Bimodality: < 5\n",
    "### Dataset 6 - Filter on entropy, HGT flag, Num. algorithms, and bimodality\n",
    "    - Entropy: < 1\n",
    "    - HGT: Remove flagged proteins\n",
    "    - NumDBsContributing: > 3\n",
    "    - Bimodality: < 5"
   ]
  },
  {
   "cell_type": "code",
   "execution_count": 13,
   "metadata": {
    "collapsed": false
   },
   "outputs": [],
   "source": [
    "d1_archs = [prot for prot in con[con[\"modeAge\"] == \"Euk_Archaea\"].index]\n",
    "d1_bacs = [prot for prot in con[con[\"modeAge\"] == \"Euk+Bac\"].index]\n",
    "\n",
    "d2_archs = [prot for prot in con[(con[\"modeAge\"] == \"Euk_Archaea\")\n",
    "                                 & (con[\"entropy\"]<1)].index]\n",
    "d2_bacs = [prot for prot in con[(con[\"modeAge\"] == \"Euk+Bac\")\n",
    "                                 & (con[\"entropy\"]<1)].index]\n",
    "\n",
    "d3_archs = [prot for prot in con[(con[\"modeAge\"] == \"Euk_Archaea\") & \n",
    "                                 (con[\"HGT_flag\"] == False)].index]\n",
    "d3_bacs = [prot for prot in con[(con[\"modeAge\"] == \"Euk+Bac\") & \n",
    "                                (con[\"HGT_flag\"] == False)].index]\n",
    "\n",
    "d4_archs = [prot for prot in con[(con[\"modeAge\"] == \"Euk_Archaea\") & \n",
    "                                 (con[\"NumDBsContributing\"] > 3)].index]\n",
    "d4_bacs = [prot for prot in con[(con[\"modeAge\"] == \"Euk+Bac\") & \n",
    "                                (con[\"NumDBsContributing\"] > 3)].index]\n",
    "\n",
    "d5_archs = [prot for prot in con[(con[\"modeAge\"] == \"Euk_Archaea\") & \n",
    "                                 (con[\"Bimodality\"] < 5)].index]\n",
    "d5_bacs = [prot for prot in con[(con[\"modeAge\"] == \"Euk+Bac\") & \n",
    "                                 (con[\"Bimodality\"] < 5)].index]\n",
    "\n",
    "d6_archs = [prot for prot in con[(con[\"modeAge\"] == \"Euk_Archaea\") & \n",
    "                                 (con[\"entropy\"]<1) &\n",
    "                                 (con[\"HGT_flag\"] == False) &\n",
    "                                 (con[\"Bimodality\"] < 5) &\n",
    "                                 (con[\"NumDBsContributing\"] > 3)].index]\n",
    "d6_bacs = [prot for prot in con[(con[\"modeAge\"] == \"Euk+Bac\") & \n",
    "                                (con[\"entropy\"]<1) &\n",
    "                                (con[\"HGT_flag\"] == False) &\n",
    "                                (con[\"Bimodality\"] < 5) &\n",
    "                                (con[\"NumDBsContributing\"] > 3)].index]"
   ]
  },
  {
   "cell_type": "code",
   "execution_count": 14,
   "metadata": {
    "collapsed": false
   },
   "outputs": [],
   "source": [
    "## Write out the data files for submission to g:Profiler\n",
    "\n",
    "archs = [d1_archs,d2_archs,d3_archs,d4_archs,d5_archs,d6_archs]\n",
    "bacs = [d1_bacs,d2_bacs,d3_bacs,d4_bacs,d5_bacs,d6_bacs]\n",
    "\n",
    "for index,prots in enumerate(archs):\n",
    "    with open(\"d%d_archs.txt\" % (index+1),'w') as out:\n",
    "        for i in prots:\n",
    "            out.write(i+\"\\n\")\n",
    "            \n",
    "for index,prots in enumerate(bacs):\n",
    "    with open(\"d%d_bacs.txt\" % (index+1),'w') as out:\n",
    "        for i in prots:\n",
    "            out.write(i+\"\\n\")"
   ]
  },
  {
   "cell_type": "markdown",
   "metadata": {},
   "source": [
    "## Enrichment\n",
    "\n",
    "Enrichment values were calculated with g:Profiler (http://biit.cs.ut.ee/gprofiler/index.cgi)\n",
    "\n",
    "Now we get the gProfiler output for each dataset, and see how the p-values change with trimming."
   ]
  },
  {
   "cell_type": "code",
   "execution_count": 16,
   "metadata": {
    "collapsed": false
   },
   "outputs": [
    {
     "data": {
      "text/plain": [
       "['d1_archs_enrichment.txt',\n",
       " 'd1_bacs_enrichment.txt',\n",
       " 'd2_archs_enrichment.txt',\n",
       " 'd2_bacs_enrichment.txt',\n",
       " 'd3_archs_enrichment.txt',\n",
       " 'd3_bacs_enrichment.txt',\n",
       " 'd4_archs_enrichment.txt',\n",
       " 'd4_bacs_enrichment.txt',\n",
       " 'd5_archs_enrichment.txt',\n",
       " 'd5_bacs_enrichment.txt',\n",
       " 'd6_archs_enrichment.txt',\n",
       " 'd6_bacs_enrichment.txt']"
      ]
     },
     "execution_count": 16,
     "metadata": {},
     "output_type": "execute_result"
    }
   ],
   "source": [
    "infiles = !ls *enrichment.txt\n",
    "infiles"
   ]
  },
  {
   "cell_type": "markdown",
   "metadata": {},
   "source": [
    "### Store the datasets in a dictionary"
   ]
  },
  {
   "cell_type": "code",
   "execution_count": 18,
   "metadata": {
    "collapsed": false
   },
   "outputs": [
    {
     "data": {
      "text/html": [
       "<div style=\"max-height:1000px;max-width:1500px;overflow:auto;\">\n",
       "<table border=\"1\" class=\"dataframe\">\n",
       "  <thead>\n",
       "    <tr style=\"text-align: right;\">\n",
       "      <th></th>\n",
       "      <th>p-value</th>\n",
       "      <th>T</th>\n",
       "      <th>Q</th>\n",
       "      <th>Q&amp;T</th>\n",
       "      <th>Q&amp;T/Q</th>\n",
       "      <th>Q&amp;T/T</th>\n",
       "      <th>term ID</th>\n",
       "      <th>t type</th>\n",
       "      <th>t group</th>\n",
       "      <th>t name</th>\n",
       "      <th>t depth</th>\n",
       "      <th>Q&amp;T list</th>\n",
       "    </tr>\n",
       "  </thead>\n",
       "  <tbody>\n",
       "    <tr>\n",
       "      <th>0</th>\n",
       "      <td>0.021200</td>\n",
       "      <td>197</td>\n",
       "      <td>204</td>\n",
       "      <td>11</td>\n",
       "      <td>0.054</td>\n",
       "      <td>0.056</td>\n",
       "      <td>GO:0006576</td>\n",
       "      <td>BP</td>\n",
       "      <td>141</td>\n",
       "      <td>cellular biogenic amine metabolic process</td>\n",
       "      <td>1</td>\n",
       "      <td>P20618,P25789,P25788,P60900,O14818,P25787,P497...</td>\n",
       "    </tr>\n",
       "    <tr>\n",
       "      <th>1</th>\n",
       "      <td>0.000004</td>\n",
       "      <td>85</td>\n",
       "      <td>204</td>\n",
       "      <td>11</td>\n",
       "      <td>0.054</td>\n",
       "      <td>0.129</td>\n",
       "      <td>GO:0006595</td>\n",
       "      <td>BP</td>\n",
       "      <td>141</td>\n",
       "      <td>polyamine metabolic process</td>\n",
       "      <td>2</td>\n",
       "      <td>P20618,P25789,P25788,P60900,O14818,P25787,P497...</td>\n",
       "    </tr>\n",
       "    <tr>\n",
       "      <th>2</th>\n",
       "      <td>0.000153</td>\n",
       "      <td>120</td>\n",
       "      <td>204</td>\n",
       "      <td>11</td>\n",
       "      <td>0.054</td>\n",
       "      <td>0.092</td>\n",
       "      <td>GO:0031145</td>\n",
       "      <td>BP</td>\n",
       "      <td>164</td>\n",
       "      <td>anaphase-promoting complex-dependent protea...</td>\n",
       "      <td>1</td>\n",
       "      <td>P20618,P25789,P25788,P60900,O14818,P25787,P497...</td>\n",
       "    </tr>\n",
       "    <tr>\n",
       "      <th>3</th>\n",
       "      <td>0.000513</td>\n",
       "      <td>107</td>\n",
       "      <td>204</td>\n",
       "      <td>10</td>\n",
       "      <td>0.049</td>\n",
       "      <td>0.093</td>\n",
       "      <td>GO:0038061</td>\n",
       "      <td>BP</td>\n",
       "      <td>33</td>\n",
       "      <td>NIK/NF-kappaB signaling</td>\n",
       "      <td>1</td>\n",
       "      <td>P20618,P25789,P25788,P60900,O14818,P25787,P497...</td>\n",
       "    </tr>\n",
       "    <tr>\n",
       "      <th>4</th>\n",
       "      <td>0.027900</td>\n",
       "      <td>5</td>\n",
       "      <td>204</td>\n",
       "      <td>3</td>\n",
       "      <td>0.015</td>\n",
       "      <td>0.600</td>\n",
       "      <td>GO:0071038</td>\n",
       "      <td>BP</td>\n",
       "      <td>175</td>\n",
       "      <td>nuclear polyadenylation-dependent tRNA cata...</td>\n",
       "      <td>1</td>\n",
       "      <td>Q9NQT5,Q96B26,Q13868</td>\n",
       "    </tr>\n",
       "  </tbody>\n",
       "</table>\n",
       "</div>"
      ],
      "text/plain": [
       "    p-value    T    Q  Q&T  Q&T/Q  Q&T/T     term ID t type  t group  \\\n",
       "0  0.021200  197  204   11  0.054  0.056  GO:0006576     BP      141   \n",
       "1  0.000004   85  204   11  0.054  0.129  GO:0006595     BP      141   \n",
       "2  0.000153  120  204   11  0.054  0.092  GO:0031145     BP      164   \n",
       "3  0.000513  107  204   10  0.049  0.093  GO:0038061     BP       33   \n",
       "4  0.027900    5  204    3  0.015  0.600  GO:0071038     BP      175   \n",
       "\n",
       "                                              t name  t depth  \\\n",
       "0          cellular biogenic amine metabolic process        1   \n",
       "1                        polyamine metabolic process        2   \n",
       "2     anaphase-promoting complex-dependent protea...        1   \n",
       "3                            NIK/NF-kappaB signaling        1   \n",
       "4     nuclear polyadenylation-dependent tRNA cata...        1   \n",
       "\n",
       "                                            Q&T list  \n",
       "0  P20618,P25789,P25788,P60900,O14818,P25787,P497...  \n",
       "1  P20618,P25789,P25788,P60900,O14818,P25787,P497...  \n",
       "2  P20618,P25789,P25788,P60900,O14818,P25787,P497...  \n",
       "3  P20618,P25789,P25788,P60900,O14818,P25787,P497...  \n",
       "4                               Q9NQT5,Q96B26,Q13868  "
      ]
     },
     "execution_count": 18,
     "metadata": {},
     "output_type": "execute_result"
    }
   ],
   "source": [
    "dsets = dict(zip(\n",
    "    [\"_\".join(i.split(\"_\")[:2]) for i in infiles],\n",
    "    [pd.read_table(i) for i in infiles]))\n",
    "\n",
    "dsets['d1_archs'].head()"
   ]
  },
  {
   "cell_type": "code",
   "execution_count": 19,
   "metadata": {
    "collapsed": true
   },
   "outputs": [],
   "source": [
    "for df in dsets:\n",
    "    dsets[df].sort([\"t type\",\"p-value\"],inplace=True)"
   ]
  },
  {
   "cell_type": "code",
   "execution_count": 20,
   "metadata": {
    "collapsed": true
   },
   "outputs": [],
   "source": [
    "## Write data files once they've been sorted\n",
    "\n",
    "for df in dsets:\n",
    "    dsets[df].to_csv(df+\"_sorted.csv\")"
   ]
  },
  {
   "cell_type": "markdown",
   "metadata": {},
   "source": [
    "### Create datasets that give the p-value for each term from each of the five datasets\n",
    "\n",
    "First define a function to munge the data. It selects one of the two kingdoms, 'bacs' or 'archs' (which is all we are investigating here), and one of the enrichment databases or GO terms (default \"BP\": biological process).\n",
    "\n",
    "The p-values are converted to negative log10. It also adds a column that is the difference between dataset 1 and dataset 5."
   ]
  },
  {
   "cell_type": "code",
   "execution_count": 21,
   "metadata": {
    "collapsed": false
   },
   "outputs": [],
   "source": [
    "def pValue_series(data_sets,kingdom='archs',t_type=\"BP\"):\n",
    "    is_first = True\n",
    "    for df in sorted(data_sets.keys()):\n",
    "        if kingdom not in df: # ignore other kingdom, 'arch' or 'bac'\n",
    "            continue\n",
    "        trimdf = data_sets[df][data_sets[df][\"t type\"] == t_type]\n",
    "        trimdf.loc[:,\"name\"] = trimdf[\"t name\"].map(lambda x: x.strip())\n",
    "        trimdf.loc[:,\"log p-value\"] = trimdf[\"p-value\"].map(lambda x: -(np.log10(x)))\n",
    "        if is_first:\n",
    "            pvalues = trimdf[[\"name\",\"log p-value\"]].set_index(\"name\")\n",
    "            pvalues.columns = [\"log p-value\" + \"_\" + df]\n",
    "            is_first = False\n",
    "        else:\n",
    "            temp = trimdf[[\"name\",\"log p-value\"]].set_index(\"name\")\n",
    "            temp.columns = [\"log p-value\" + \"_\" + df]\n",
    "            pvalues = pd.concat([pvalues,temp],axis=1,copy=False)\n",
    "\n",
    "    pvalues.loc[:,\"diff\"] = pvalues.ix[:,0] - pvalues.ix[:,-1]\n",
    "    pvalues.sort(\"diff\",inplace=True)\n",
    "    \n",
    "    return pvalues"
   ]
  },
  {
   "cell_type": "markdown",
   "metadata": {},
   "source": [
    "### P-value series\n",
    "\n",
    "This is what the output looks like. Note that if the column \"diff\" is negative, it means that the heavy filtering on dataset 5 gave a stronger p-value."
   ]
  },
  {
   "cell_type": "code",
   "execution_count": 23,
   "metadata": {
    "collapsed": false
   },
   "outputs": [
    {
     "data": {
      "text/html": [
       "<div style=\"max-height:1000px;max-width:1500px;overflow:auto;\">\n",
       "<table border=\"1\" class=\"dataframe\">\n",
       "  <thead>\n",
       "    <tr style=\"text-align: right;\">\n",
       "      <th></th>\n",
       "      <th>log p-value_d1_archs</th>\n",
       "      <th>log p-value_d2_archs</th>\n",
       "      <th>log p-value_d3_archs</th>\n",
       "      <th>log p-value_d4_archs</th>\n",
       "      <th>log p-value_d5_archs</th>\n",
       "      <th>log p-value_d6_archs</th>\n",
       "      <th>diff</th>\n",
       "    </tr>\n",
       "  </thead>\n",
       "  <tbody>\n",
       "    <tr>\n",
       "      <th>RNA metabolic process</th>\n",
       "      <td>8.892790</td>\n",
       "      <td>11.534617</td>\n",
       "      <td>9.195179</td>\n",
       "      <td>11.136677</td>\n",
       "      <td>8.330683</td>\n",
       "      <td>15.441291</td>\n",
       "      <td>-6.548501</td>\n",
       "    </tr>\n",
       "    <tr>\n",
       "      <th>cellular macromolecule metabolic process</th>\n",
       "      <td>18.772113</td>\n",
       "      <td>15.714443</td>\n",
       "      <td>19.583359</td>\n",
       "      <td>24.767004</td>\n",
       "      <td>18.675718</td>\n",
       "      <td>24.809668</td>\n",
       "      <td>-6.037555</td>\n",
       "    </tr>\n",
       "    <tr>\n",
       "      <th>macromolecule metabolic process</th>\n",
       "      <td>16.469800</td>\n",
       "      <td>14.415669</td>\n",
       "      <td>17.286509</td>\n",
       "      <td>21.051098</td>\n",
       "      <td>16.565431</td>\n",
       "      <td>22.175224</td>\n",
       "      <td>-5.705423</td>\n",
       "    </tr>\n",
       "    <tr>\n",
       "      <th>gene expression</th>\n",
       "      <td>16.939302</td>\n",
       "      <td>17.815309</td>\n",
       "      <td>17.431798</td>\n",
       "      <td>20.057000</td>\n",
       "      <td>15.614394</td>\n",
       "      <td>22.501689</td>\n",
       "      <td>-5.562387</td>\n",
       "    </tr>\n",
       "    <tr>\n",
       "      <th>cellular metabolic process</th>\n",
       "      <td>11.623423</td>\n",
       "      <td>9.545155</td>\n",
       "      <td>11.248721</td>\n",
       "      <td>17.525784</td>\n",
       "      <td>11.913640</td>\n",
       "      <td>16.841638</td>\n",
       "      <td>-5.218214</td>\n",
       "    </tr>\n",
       "    <tr>\n",
       "      <th>nucleic acid metabolic process</th>\n",
       "      <td>16.856985</td>\n",
       "      <td>16.403403</td>\n",
       "      <td>17.326058</td>\n",
       "      <td>20.427128</td>\n",
       "      <td>16.585027</td>\n",
       "      <td>22.034798</td>\n",
       "      <td>-5.177813</td>\n",
       "    </tr>\n",
       "    <tr>\n",
       "      <th>organic substance metabolic process</th>\n",
       "      <td>11.212540</td>\n",
       "      <td>9.698970</td>\n",
       "      <td>10.856985</td>\n",
       "      <td>15.946922</td>\n",
       "      <td>11.630784</td>\n",
       "      <td>15.943095</td>\n",
       "      <td>-4.730556</td>\n",
       "    </tr>\n",
       "    <tr>\n",
       "      <th>primary metabolic process</th>\n",
       "      <td>11.718967</td>\n",
       "      <td>9.779892</td>\n",
       "      <td>11.347754</td>\n",
       "      <td>17.009217</td>\n",
       "      <td>12.047692</td>\n",
       "      <td>16.428291</td>\n",
       "      <td>-4.709325</td>\n",
       "    </tr>\n",
       "    <tr>\n",
       "      <th>metabolic process</th>\n",
       "      <td>11.531653</td>\n",
       "      <td>9.268411</td>\n",
       "      <td>11.216096</td>\n",
       "      <td>16.175874</td>\n",
       "      <td>11.806875</td>\n",
       "      <td>15.752027</td>\n",
       "      <td>-4.220374</td>\n",
       "    </tr>\n",
       "    <tr>\n",
       "      <th>macromolecule biosynthetic process</th>\n",
       "      <td>10.954677</td>\n",
       "      <td>11.171340</td>\n",
       "      <td>11.326058</td>\n",
       "      <td>13.795880</td>\n",
       "      <td>10.138466</td>\n",
       "      <td>14.962574</td>\n",
       "      <td>-4.007896</td>\n",
       "    </tr>\n",
       "  </tbody>\n",
       "</table>\n",
       "</div>"
      ],
      "text/plain": [
       "                                          log p-value_d1_archs  \\\n",
       "RNA metabolic process                                 8.892790   \n",
       "cellular macromolecule metabolic process             18.772113   \n",
       "macromolecule metabolic process                      16.469800   \n",
       "gene expression                                      16.939302   \n",
       "cellular metabolic process                           11.623423   \n",
       "nucleic acid metabolic process                       16.856985   \n",
       "organic substance metabolic process                  11.212540   \n",
       "primary metabolic process                            11.718967   \n",
       "metabolic process                                    11.531653   \n",
       "macromolecule biosynthetic process                   10.954677   \n",
       "\n",
       "                                          log p-value_d2_archs  \\\n",
       "RNA metabolic process                                11.534617   \n",
       "cellular macromolecule metabolic process             15.714443   \n",
       "macromolecule metabolic process                      14.415669   \n",
       "gene expression                                      17.815309   \n",
       "cellular metabolic process                            9.545155   \n",
       "nucleic acid metabolic process                       16.403403   \n",
       "organic substance metabolic process                   9.698970   \n",
       "primary metabolic process                             9.779892   \n",
       "metabolic process                                     9.268411   \n",
       "macromolecule biosynthetic process                   11.171340   \n",
       "\n",
       "                                          log p-value_d3_archs  \\\n",
       "RNA metabolic process                                 9.195179   \n",
       "cellular macromolecule metabolic process             19.583359   \n",
       "macromolecule metabolic process                      17.286509   \n",
       "gene expression                                      17.431798   \n",
       "cellular metabolic process                           11.248721   \n",
       "nucleic acid metabolic process                       17.326058   \n",
       "organic substance metabolic process                  10.856985   \n",
       "primary metabolic process                            11.347754   \n",
       "metabolic process                                    11.216096   \n",
       "macromolecule biosynthetic process                   11.326058   \n",
       "\n",
       "                                          log p-value_d4_archs  \\\n",
       "RNA metabolic process                                11.136677   \n",
       "cellular macromolecule metabolic process             24.767004   \n",
       "macromolecule metabolic process                      21.051098   \n",
       "gene expression                                      20.057000   \n",
       "cellular metabolic process                           17.525784   \n",
       "nucleic acid metabolic process                       20.427128   \n",
       "organic substance metabolic process                  15.946922   \n",
       "primary metabolic process                            17.009217   \n",
       "metabolic process                                    16.175874   \n",
       "macromolecule biosynthetic process                   13.795880   \n",
       "\n",
       "                                          log p-value_d5_archs  \\\n",
       "RNA metabolic process                                 8.330683   \n",
       "cellular macromolecule metabolic process             18.675718   \n",
       "macromolecule metabolic process                      16.565431   \n",
       "gene expression                                      15.614394   \n",
       "cellular metabolic process                           11.913640   \n",
       "nucleic acid metabolic process                       16.585027   \n",
       "organic substance metabolic process                  11.630784   \n",
       "primary metabolic process                            12.047692   \n",
       "metabolic process                                    11.806875   \n",
       "macromolecule biosynthetic process                   10.138466   \n",
       "\n",
       "                                          log p-value_d6_archs      diff  \n",
       "RNA metabolic process                                15.441291 -6.548501  \n",
       "cellular macromolecule metabolic process             24.809668 -6.037555  \n",
       "macromolecule metabolic process                      22.175224 -5.705423  \n",
       "gene expression                                      22.501689 -5.562387  \n",
       "cellular metabolic process                           16.841638 -5.218214  \n",
       "nucleic acid metabolic process                       22.034798 -5.177813  \n",
       "organic substance metabolic process                  15.943095 -4.730556  \n",
       "primary metabolic process                            16.428291 -4.709325  \n",
       "metabolic process                                    15.752027 -4.220374  \n",
       "macromolecule biosynthetic process                   14.962574 -4.007896  "
      ]
     },
     "execution_count": 23,
     "metadata": {},
     "output_type": "execute_result"
    }
   ],
   "source": [
    "archs_pvalues_BP = pValue_series(dsets)\n",
    "archs_pvalues_BP.head(n=10)"
   ]
  },
  {
   "cell_type": "code",
   "execution_count": 24,
   "metadata": {
    "collapsed": false
   },
   "outputs": [],
   "source": [
    "bacs_pvalues_BP = pValue_series(dsets,'bacs')"
   ]
  },
  {
   "cell_type": "code",
   "execution_count": 25,
   "metadata": {
    "collapsed": false
   },
   "outputs": [],
   "source": [
    "archs_pvalues_CC = pValue_series(dsets,'archs',\"CC\")\n",
    "bacs_pvalues_CC = pValue_series(dsets,'bacs',\"CC\")"
   ]
  },
  {
   "cell_type": "code",
   "execution_count": 26,
   "metadata": {
    "collapsed": true
   },
   "outputs": [],
   "source": [
    "#Write out p-value series\n",
    "\n",
    "archs_pvalues_BP.to_csv(\"archs_p-values_BP.csv\")\n",
    "bacs_pvalues_BP.to_csv(\"bacs_p-values_BP.csv\")\n",
    "archs_pvalues_CC.to_csv(\"archs_p-values_CC.csv\")\n",
    "bacs_pvalues_CC.to_csv(\"bacs_p-values_CC.csv\")"
   ]
  },
  {
   "cell_type": "markdown",
   "metadata": {},
   "source": [
    "### Pick a few representative enrichment terms and plot them"
   ]
  },
  {
   "cell_type": "code",
   "execution_count": 28,
   "metadata": {
    "collapsed": false
   },
   "outputs": [],
   "source": [
    "def plot_it(df,term,style='-',label=None):\n",
    "    df = df.fillna(0)\n",
    "    row = df.ix[term,:-1]\n",
    "    row.index = [i.split(\"_\")[-2] for i in row.index]\n",
    "    row.plot(style=style,label=label,color='black',linewidth=2)\n",
    "    plt.xticks(rotation=70)\n",
    "    plt.xlabel(\"Dataset\")\n",
    "    plt.ylabel(\"-log10(p-value)\")"
   ]
  },
  {
   "cell_type": "code",
   "execution_count": 40,
   "metadata": {
    "collapsed": false
   },
   "outputs": [
    {
     "data": {
      "image/png": "[encoded data removed]",
      "text/plain": [
       "<matplotlib.figure.Figure at 0xab3ed8c>"
      ]
     },
     "metadata": {},
     "output_type": "display_data"
    }
   ],
   "source": [
    "plot_it(archs_pvalues_BP,\"RNA metabolic process\",label=\"RNA metabolic process (BP)\")\n",
    "plot_it(archs_pvalues_BP,\"ribosome biogenesis\",style='--',label=\"ribosome biogenesis (BP)\")\n",
    "plot_it(archs_pvalues_CC,\"nucleolus\",style=':',label=\"nucleolus (CC)\")\n",
    "plot_it(archs_pvalues_CC,\"cytosolic large ribosomal subunit\",style='-.',label=\"cyto. large ribosomal subunit (CC)\")\n",
    "\n",
    "plt.legend(loc=0,prop={'size':9})\n",
    "ax = plt.gca()\n",
    "ax.set_ylim([0,50])\n",
    "\n",
    "#plt.savefig(\"Archaea_p-values.svg\")"
   ]
  },
  {
   "cell_type": "code",
   "execution_count": 41,
   "metadata": {
    "collapsed": false
   },
   "outputs": [
    {
     "data": {
      "image/png": "[encoded data removed]",
      "text/plain": [
       "<matplotlib.figure.Figure at 0xabaf48c>"
      ]
     },
     "metadata": {},
     "output_type": "display_data"
    }
   ],
   "source": [
    "plot_it(bacs_pvalues_BP,\"amide biosynthetic process\",label=\"amide biosynthetic process (BP)\")\n",
    "plot_it(bacs_pvalues_BP,\"metabolic process\",style='--',label=\"metabolic process (BP)\")\n",
    "plot_it(bacs_pvalues_CC,\"intracellular organelle\",style='-.',label=\"intracellular organelle (CC)\")\n",
    "plot_it(bacs_pvalues_BP,\"catabolic process\",style=':',label=\"mitochondrial membrane (BP)\")\n",
    "\n",
    "plt.legend(loc=2,prop={'size':9})\n",
    "\n",
    "ax = plt.gca()\n",
    "ax.set_ylim([0,100])\n",
    "\n",
    "#plt.savefig(\"Bacteria_p-values.svg\")"
   ]
  },
  {
   "cell_type": "code",
   "execution_count": 43,
   "metadata": {
    "collapsed": false
   },
   "outputs": [
    {
     "data": {
      "image/png": "[encoded data removed]",
      "text/plain": [
       "<matplotlib.figure.Figure at 0xb74160c>"
      ]
     },
     "metadata": {},
     "output_type": "display_data"
    }
   ],
   "source": [
    "fig,axes = plt.subplots(2,2)\n",
    "\n",
    "dfs_names = zip([\"Euk_Archaea (BP)\", \"Euk+Bacteria (BP)\",\"Euk_Archaea (CC)\",\"Euk+Bacteria (CC)\"],\n",
    "    [archs_pvalues_BP,bacs_pvalues_BP,archs_pvalues_CC,bacs_pvalues_CC])\n",
    "\n",
    "# Greys\n",
    "# flier_colors = [\"#252525\",\"#252525\",\"#636363\",\"#636363\",\"#969696\",\"#969696\",\"#bdbdbd\",\"#bdbdbd\",\"#d9d9d9\",\"#d9d9d9\"]\n",
    "\n",
    "flier_colors = [\"#990000\",\"#990000\",\"#d7301f\",\"#d7301f\",\"#ef6548\",\"#ef6548\",\"#fc8d59\",\"#fc8d59\",\"#fdbb84\",\"#fdbb84\"]\n",
    "\n",
    "index=0\n",
    "for name,df in dfs_names:\n",
    "    colors = dict(boxes='black',caps='black',medians='black',whiskers='grey')\n",
    "    ax = axes.flat[index]\n",
    "    df = df.dropna()\n",
    "    df = df.ix[:,:-1]\n",
    "    df.columns = [i.split(\"_\")[1] for i in df.columns]\n",
    "    box1 = df.plot(kind='box',ax=ax,notch=True,sym=\".\",color=colors,return_type='dict',bootstrap=5000)\n",
    "    for col,flier in zip(flier_colors,box1['fliers']):\n",
    "        plt.setp(flier,color=col)\n",
    "    ax.set_title(name)\n",
    "    ax.get_xaxis().set_ticks([])\n",
    "    index += 1\n",
    "    \n",
    "#plt.savefig(\"avg_p-values.svg\")"
   ]
  },
  {
   "cell_type": "code",
   "execution_count": null,
   "metadata": {
    "collapsed": true
   },
   "outputs": [],
   "source": []
  }
 ],
 "metadata": {
  "kernelspec": {
   "display_name": "Python 2",
   "language": "python",
   "name": "python2"
  },
  "language_info": {
   "codemirror_mode": {
    "name": "ipython",
    "version": 2
   },
   "file_extension": ".py",
   "mimetype": "text/x-python",
   "name": "python",
   "nbconvert_exporter": "python",
   "pygments_lexer": "ipython2",
   "version": "2.7.3"
  }
 },
 "nbformat": 4,
 "nbformat_minor": 0
}
