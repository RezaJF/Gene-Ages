{
 "cells": [
  {
   "cell_type": "markdown",
   "metadata": {},
   "source": [
    "# Detecting horizontal gene transfer (HGT)\n",
    "\n",
    "This sheet shows how we flag genes as potential HGT events.\n"
   ]
  },
  {
   "cell_type": "code",
   "execution_count": 1,
   "metadata": {
    "collapsed": true
   },
   "outputs": [],
   "source": [
    "import pandas as pd\n",
    "from matplotlib import pyplot as plt\n",
    "%matplotlib inline"
   ]
  },
  {
   "cell_type": "markdown",
   "metadata": {},
   "source": [
    "## Number of taxa inferred to have been lost for each gene by each algorithm"
   ]
  },
  {
   "cell_type": "code",
   "execution_count": 2,
   "metadata": {
    "collapsed": false,
    "scrolled": true
   },
   "outputs": [
    {
     "data": {
      "text/html": [
       "<div style=\"max-height:1000px;max-width:1500px;overflow:auto;\">\n",
       "<table border=\"1\" class=\"dataframe\">\n",
       "  <thead>\n",
       "    <tr style=\"text-align: right;\">\n",
       "      <th></th>\n",
       "      <th>InParanoid</th>\n",
       "      <th>InParanoidCore</th>\n",
       "      <th>OMA_Groups</th>\n",
       "      <th>OMA_Pairs</th>\n",
       "      <th>PANTHER8_LDO</th>\n",
       "      <th>RSD</th>\n",
       "      <th>EggNOG</th>\n",
       "      <th>Orthoinspector</th>\n",
       "      <th>Hieranoid_2</th>\n",
       "      <th>EnsemblCompara_v2</th>\n",
       "      <th>PANTHER8_all</th>\n",
       "      <th>Metaphors</th>\n",
       "      <th>PhylomeDB</th>\n",
       "    </tr>\n",
       "  </thead>\n",
       "  <tbody>\n",
       "    <tr>\n",
       "      <th>Q8TEA1</th>\n",
       "      <td>37</td>\n",
       "      <td>24</td>\n",
       "      <td>19</td>\n",
       "      <td>17</td>\n",
       "      <td>22</td>\n",
       "      <td>33</td>\n",
       "      <td>20</td>\n",
       "      <td>38</td>\n",
       "      <td>16</td>\n",
       "      <td>25</td>\n",
       "      <td>39</td>\n",
       "      <td>40</td>\n",
       "      <td>41</td>\n",
       "    </tr>\n",
       "    <tr>\n",
       "      <th>A6NIH7</th>\n",
       "      <td>10</td>\n",
       "      <td>27</td>\n",
       "      <td>26</td>\n",
       "      <td>12</td>\n",
       "      <td>22</td>\n",
       "      <td>23</td>\n",
       "      <td>21</td>\n",
       "      <td>22</td>\n",
       "      <td>21</td>\n",
       "      <td>26</td>\n",
       "      <td>22</td>\n",
       "      <td>22</td>\n",
       "      <td>25</td>\n",
       "    </tr>\n",
       "    <tr>\n",
       "      <th>Q96HJ5</th>\n",
       "      <td>1</td>\n",
       "      <td>1</td>\n",
       "      <td>1</td>\n",
       "      <td>0</td>\n",
       "      <td>1</td>\n",
       "      <td>1</td>\n",
       "      <td>1</td>\n",
       "      <td>1</td>\n",
       "      <td>5</td>\n",
       "      <td>4</td>\n",
       "      <td>16</td>\n",
       "      <td>5</td>\n",
       "      <td>5</td>\n",
       "    </tr>\n",
       "    <tr>\n",
       "      <th>O94913</th>\n",
       "      <td>10</td>\n",
       "      <td>7</td>\n",
       "      <td>1</td>\n",
       "      <td>6</td>\n",
       "      <td>8</td>\n",
       "      <td>2</td>\n",
       "      <td>8</td>\n",
       "      <td>5</td>\n",
       "      <td>20</td>\n",
       "      <td>5</td>\n",
       "      <td>8</td>\n",
       "      <td>11</td>\n",
       "      <td>1</td>\n",
       "    </tr>\n",
       "    <tr>\n",
       "      <th>P37837</th>\n",
       "      <td>18</td>\n",
       "      <td>25</td>\n",
       "      <td>29</td>\n",
       "      <td>26</td>\n",
       "      <td>4</td>\n",
       "      <td>12</td>\n",
       "      <td>22</td>\n",
       "      <td>15</td>\n",
       "      <td>25</td>\n",
       "      <td>14</td>\n",
       "      <td>15</td>\n",
       "      <td>17</td>\n",
       "      <td>15</td>\n",
       "    </tr>\n",
       "  </tbody>\n",
       "</table>\n",
       "</div>"
      ],
      "text/plain": [
       "        InParanoid  InParanoidCore  OMA_Groups  OMA_Pairs  PANTHER8_LDO  RSD  \\\n",
       "Q8TEA1          37              24          19         17            22   33   \n",
       "A6NIH7          10              27          26         12            22   23   \n",
       "Q96HJ5           1               1           1          0             1    1   \n",
       "O94913          10               7           1          6             8    2   \n",
       "P37837          18              25          29         26             4   12   \n",
       "\n",
       "        EggNOG  Orthoinspector  Hieranoid_2  EnsemblCompara_v2  PANTHER8_all  \\\n",
       "Q8TEA1      20              38           16                 25            39   \n",
       "A6NIH7      21              22           21                 26            22   \n",
       "Q96HJ5       1               1            5                  4            16   \n",
       "O94913       8               5           20                  5             8   \n",
       "P37837      22              15           25                 14            15   \n",
       "\n",
       "        Metaphors  PhylomeDB  \n",
       "Q8TEA1         40         41  \n",
       "A6NIH7         22         25  \n",
       "Q96HJ5          5          5  \n",
       "O94913         11          1  \n",
       "P37837         17         15  "
      ]
     },
     "execution_count": 2,
     "metadata": {},
     "output_type": "execute_result"
    }
   ],
   "source": [
    "lossTaxa = pd.read_csv(\"lossTaxa_HUMAN.csv\",index_col=0)\n",
    "lossTaxa.head()"
   ]
  },
  {
   "cell_type": "markdown",
   "metadata": {},
   "source": [
    "## Get algorithms that have been removed as false positives"
   ]
  },
  {
   "cell_type": "code",
   "execution_count": 3,
   "metadata": {
    "collapsed": false
   },
   "outputs": [
    {
     "data": {
      "text/plain": [
       "['PhylomeDB']"
      ]
     },
     "execution_count": 3,
     "metadata": {},
     "output_type": "execute_result"
    }
   ],
   "source": [
    "# Map genes to trimmed algorithms\n",
    "\n",
    "outlierD = {}\n",
    "with open(\"lossStats_HUMAN.csv\") as f:\n",
    "    f.readline() # skip header\n",
    "    for line in f:\n",
    "        line = line.strip().split(\",\")\n",
    "        if line[3] == '':\n",
    "            continue\n",
    "        outlierD[line[0]] = line[3].split()\n",
    "        \n",
    "outlierD[outlierD.keys()[0]]"
   ]
  },
  {
   "cell_type": "markdown",
   "metadata": {},
   "source": [
    "### Calculate average number of lossTaxa for each gene and add this as a new column to lossTaxa"
   ]
  },
  {
   "cell_type": "code",
   "execution_count": 4,
   "metadata": {
    "collapsed": false
   },
   "outputs": [
    {
     "data": {
      "text/plain": [
       "9446"
      ]
     },
     "execution_count": 4,
     "metadata": {},
     "output_type": "execute_result"
    }
   ],
   "source": [
    "dbsTrimmed = 0\n",
    "avgs = pd.Series()\n",
    "for index,row in lossTaxa.iterrows():\n",
    "    if index in outlierD:\n",
    "        dbsTrimmed += len(outlierD[index])\n",
    "        dbs = [i for i in lossTaxa.columns if i not in outlierD[index]]\n",
    "    else:\n",
    "        dbs = lossTaxa.columns\n",
    "    avgs[index] = row[dbs].mean() # only include algorithm that have not been trimmed\n",
    "    \n",
    "dbsTrimmed"
   ]
  },
  {
   "cell_type": "code",
   "execution_count": 5,
   "metadata": {
    "collapsed": false
   },
   "outputs": [
    {
     "data": {
      "text/html": [
       "<div style=\"max-height:1000px;max-width:1500px;overflow:auto;\">\n",
       "<table border=\"1\" class=\"dataframe\">\n",
       "  <thead>\n",
       "    <tr style=\"text-align: right;\">\n",
       "      <th></th>\n",
       "      <th>InParanoid</th>\n",
       "      <th>InParanoidCore</th>\n",
       "      <th>OMA_Groups</th>\n",
       "      <th>OMA_Pairs</th>\n",
       "      <th>PANTHER8_LDO</th>\n",
       "      <th>RSD</th>\n",
       "      <th>EggNOG</th>\n",
       "      <th>Orthoinspector</th>\n",
       "      <th>Hieranoid_2</th>\n",
       "      <th>EnsemblCompara_v2</th>\n",
       "      <th>PANTHER8_all</th>\n",
       "      <th>Metaphors</th>\n",
       "      <th>PhylomeDB</th>\n",
       "      <th>Avg</th>\n",
       "    </tr>\n",
       "  </thead>\n",
       "  <tbody>\n",
       "    <tr>\n",
       "      <th>Q8TEA1</th>\n",
       "      <td>37</td>\n",
       "      <td>24</td>\n",
       "      <td>19</td>\n",
       "      <td>17</td>\n",
       "      <td>22</td>\n",
       "      <td>33</td>\n",
       "      <td>20</td>\n",
       "      <td>38</td>\n",
       "      <td>16</td>\n",
       "      <td>25</td>\n",
       "      <td>39</td>\n",
       "      <td>40</td>\n",
       "      <td>41</td>\n",
       "      <td>28.538462</td>\n",
       "    </tr>\n",
       "    <tr>\n",
       "      <th>A6NIH7</th>\n",
       "      <td>10</td>\n",
       "      <td>27</td>\n",
       "      <td>26</td>\n",
       "      <td>12</td>\n",
       "      <td>22</td>\n",
       "      <td>23</td>\n",
       "      <td>21</td>\n",
       "      <td>22</td>\n",
       "      <td>21</td>\n",
       "      <td>26</td>\n",
       "      <td>22</td>\n",
       "      <td>22</td>\n",
       "      <td>25</td>\n",
       "      <td>21.461538</td>\n",
       "    </tr>\n",
       "    <tr>\n",
       "      <th>Q96HJ5</th>\n",
       "      <td>1</td>\n",
       "      <td>1</td>\n",
       "      <td>1</td>\n",
       "      <td>0</td>\n",
       "      <td>1</td>\n",
       "      <td>1</td>\n",
       "      <td>1</td>\n",
       "      <td>1</td>\n",
       "      <td>5</td>\n",
       "      <td>4</td>\n",
       "      <td>16</td>\n",
       "      <td>5</td>\n",
       "      <td>5</td>\n",
       "      <td>2.166667</td>\n",
       "    </tr>\n",
       "    <tr>\n",
       "      <th>O94913</th>\n",
       "      <td>10</td>\n",
       "      <td>7</td>\n",
       "      <td>1</td>\n",
       "      <td>6</td>\n",
       "      <td>8</td>\n",
       "      <td>2</td>\n",
       "      <td>8</td>\n",
       "      <td>5</td>\n",
       "      <td>20</td>\n",
       "      <td>5</td>\n",
       "      <td>8</td>\n",
       "      <td>11</td>\n",
       "      <td>1</td>\n",
       "      <td>6.000000</td>\n",
       "    </tr>\n",
       "    <tr>\n",
       "      <th>P37837</th>\n",
       "      <td>18</td>\n",
       "      <td>25</td>\n",
       "      <td>29</td>\n",
       "      <td>26</td>\n",
       "      <td>4</td>\n",
       "      <td>12</td>\n",
       "      <td>22</td>\n",
       "      <td>15</td>\n",
       "      <td>25</td>\n",
       "      <td>14</td>\n",
       "      <td>15</td>\n",
       "      <td>17</td>\n",
       "      <td>15</td>\n",
       "      <td>18.230769</td>\n",
       "    </tr>\n",
       "  </tbody>\n",
       "</table>\n",
       "</div>"
      ],
      "text/plain": [
       "        InParanoid  InParanoidCore  OMA_Groups  OMA_Pairs  PANTHER8_LDO  RSD  \\\n",
       "Q8TEA1          37              24          19         17            22   33   \n",
       "A6NIH7          10              27          26         12            22   23   \n",
       "Q96HJ5           1               1           1          0             1    1   \n",
       "O94913          10               7           1          6             8    2   \n",
       "P37837          18              25          29         26             4   12   \n",
       "\n",
       "        EggNOG  Orthoinspector  Hieranoid_2  EnsemblCompara_v2  PANTHER8_all  \\\n",
       "Q8TEA1      20              38           16                 25            39   \n",
       "A6NIH7      21              22           21                 26            22   \n",
       "Q96HJ5       1               1            5                  4            16   \n",
       "O94913       8               5           20                  5             8   \n",
       "P37837      22              15           25                 14            15   \n",
       "\n",
       "        Metaphors  PhylomeDB        Avg  \n",
       "Q8TEA1         40         41  28.538462  \n",
       "A6NIH7         22         25  21.461538  \n",
       "Q96HJ5          5          5   2.166667  \n",
       "O94913         11          1   6.000000  \n",
       "P37837         17         15  18.230769  "
      ]
     },
     "execution_count": 5,
     "metadata": {},
     "output_type": "execute_result"
    }
   ],
   "source": [
    "lossTaxa[\"Avg\"] = avgs\n",
    "lossTaxa.head()"
   ]
  },
  {
   "cell_type": "markdown",
   "metadata": {},
   "source": [
    "## The average has a fat-tailed distribution\n",
    "\n",
    "We will flag all the genes in the 95th percentile"
   ]
  },
  {
   "cell_type": "code",
   "execution_count": 6,
   "metadata": {
    "collapsed": false
   },
   "outputs": [
    {
     "data": {
      "text/plain": [
       "0.00     0.000000\n",
       "0.05     0.846154\n",
       "0.10     1.333333\n",
       "0.15     2.000000\n",
       "0.20     2.583333\n",
       "0.25     3.166667\n",
       "0.30     3.769231\n",
       "0.35     4.384615\n",
       "0.40     5.000000\n",
       "0.45     5.750000\n",
       "0.50     6.500000\n",
       "0.55     7.384615\n",
       "0.60     8.250000\n",
       "0.65     9.307692\n",
       "0.70    10.538462\n",
       "0.75    11.916667\n",
       "0.80    13.615385\n",
       "0.85    15.692308\n",
       "0.90    19.000000\n",
       "0.95    24.923077\n",
       "dtype: float64"
      ]
     },
     "execution_count": 6,
     "metadata": {},
     "output_type": "execute_result"
    }
   ],
   "source": [
    "def floatRange(start,stop,step):\n",
    "    i = start\n",
    "    while i <= stop:\n",
    "        yield i\n",
    "        i += step\n",
    "        \n",
    "quantile_steps = [i for i in floatRange(0,1,.05)]\n",
    "    \n",
    "quantiles = lossTaxa[\"Avg\"].quantile(quantile_steps)\n",
    "quantiles"
   ]
  },
  {
   "cell_type": "code",
   "execution_count": 7,
   "metadata": {
    "collapsed": false
   },
   "outputs": [
    {
     "data": {
      "text/plain": [
       "24.923076923076923"
      ]
     },
     "execution_count": 7,
     "metadata": {},
     "output_type": "execute_result"
    }
   ],
   "source": [
    "quantiles.iloc[-1]"
   ]
  },
  {
   "cell_type": "code",
   "execution_count": 8,
   "metadata": {
    "collapsed": false
   },
   "outputs": [
    {
     "data": {
      "image/png": "[encoded data removed]",
      "text/plain": [
       "<matplotlib.figure.Figure at 0xb244d0c>"
      ]
     },
     "metadata": {},
     "output_type": "display_data"
    }
   ],
   "source": [
    "lossTaxa[\"Avg\"].hist(bins=50,color='grey')\n",
    "bline = plt.axvline(24.92,color='black',label=\"95th percentile\")\n",
    "plt.legend()\n",
    "\n",
    "#plt.savefig(\"AvgLossTaxa_distribution.svg\")"
   ]
  },
  {
   "cell_type": "markdown",
   "metadata": {},
   "source": [
    "## Flag genes"
   ]
  },
  {
   "cell_type": "code",
   "execution_count": 9,
   "metadata": {
    "collapsed": false
   },
   "outputs": [
    {
     "data": {
      "text/html": [
       "<div style=\"max-height:1000px;max-width:1500px;overflow:auto;\">\n",
       "<table border=\"1\" class=\"dataframe\">\n",
       "  <thead>\n",
       "    <tr style=\"text-align: right;\">\n",
       "      <th></th>\n",
       "      <th>InParanoid</th>\n",
       "      <th>InParanoidCore</th>\n",
       "      <th>OMA_Groups</th>\n",
       "      <th>OMA_Pairs</th>\n",
       "      <th>PANTHER8_LDO</th>\n",
       "      <th>RSD</th>\n",
       "      <th>EggNOG</th>\n",
       "      <th>Orthoinspector</th>\n",
       "      <th>Hieranoid_2</th>\n",
       "      <th>EnsemblCompara_v2</th>\n",
       "      <th>PANTHER8_all</th>\n",
       "      <th>Metaphors</th>\n",
       "      <th>PhylomeDB</th>\n",
       "      <th>Avg</th>\n",
       "      <th>HGT_flag</th>\n",
       "    </tr>\n",
       "  </thead>\n",
       "  <tbody>\n",
       "    <tr>\n",
       "      <th>Q8TEA1</th>\n",
       "      <td>37</td>\n",
       "      <td>24</td>\n",
       "      <td>19</td>\n",
       "      <td>17</td>\n",
       "      <td>22</td>\n",
       "      <td>33</td>\n",
       "      <td>20</td>\n",
       "      <td>38</td>\n",
       "      <td>16</td>\n",
       "      <td>25</td>\n",
       "      <td>39</td>\n",
       "      <td>40</td>\n",
       "      <td>41</td>\n",
       "      <td>28.538462</td>\n",
       "      <td>True</td>\n",
       "    </tr>\n",
       "    <tr>\n",
       "      <th>A6NIH7</th>\n",
       "      <td>10</td>\n",
       "      <td>27</td>\n",
       "      <td>26</td>\n",
       "      <td>12</td>\n",
       "      <td>22</td>\n",
       "      <td>23</td>\n",
       "      <td>21</td>\n",
       "      <td>22</td>\n",
       "      <td>21</td>\n",
       "      <td>26</td>\n",
       "      <td>22</td>\n",
       "      <td>22</td>\n",
       "      <td>25</td>\n",
       "      <td>21.461538</td>\n",
       "      <td>False</td>\n",
       "    </tr>\n",
       "    <tr>\n",
       "      <th>Q96HJ5</th>\n",
       "      <td>1</td>\n",
       "      <td>1</td>\n",
       "      <td>1</td>\n",
       "      <td>0</td>\n",
       "      <td>1</td>\n",
       "      <td>1</td>\n",
       "      <td>1</td>\n",
       "      <td>1</td>\n",
       "      <td>5</td>\n",
       "      <td>4</td>\n",
       "      <td>16</td>\n",
       "      <td>5</td>\n",
       "      <td>5</td>\n",
       "      <td>2.166667</td>\n",
       "      <td>False</td>\n",
       "    </tr>\n",
       "    <tr>\n",
       "      <th>O94913</th>\n",
       "      <td>10</td>\n",
       "      <td>7</td>\n",
       "      <td>1</td>\n",
       "      <td>6</td>\n",
       "      <td>8</td>\n",
       "      <td>2</td>\n",
       "      <td>8</td>\n",
       "      <td>5</td>\n",
       "      <td>20</td>\n",
       "      <td>5</td>\n",
       "      <td>8</td>\n",
       "      <td>11</td>\n",
       "      <td>1</td>\n",
       "      <td>6.000000</td>\n",
       "      <td>False</td>\n",
       "    </tr>\n",
       "    <tr>\n",
       "      <th>P37837</th>\n",
       "      <td>18</td>\n",
       "      <td>25</td>\n",
       "      <td>29</td>\n",
       "      <td>26</td>\n",
       "      <td>4</td>\n",
       "      <td>12</td>\n",
       "      <td>22</td>\n",
       "      <td>15</td>\n",
       "      <td>25</td>\n",
       "      <td>14</td>\n",
       "      <td>15</td>\n",
       "      <td>17</td>\n",
       "      <td>15</td>\n",
       "      <td>18.230769</td>\n",
       "      <td>False</td>\n",
       "    </tr>\n",
       "  </tbody>\n",
       "</table>\n",
       "</div>"
      ],
      "text/plain": [
       "        InParanoid  InParanoidCore  OMA_Groups  OMA_Pairs  PANTHER8_LDO  RSD  \\\n",
       "Q8TEA1          37              24          19         17            22   33   \n",
       "A6NIH7          10              27          26         12            22   23   \n",
       "Q96HJ5           1               1           1          0             1    1   \n",
       "O94913          10               7           1          6             8    2   \n",
       "P37837          18              25          29         26             4   12   \n",
       "\n",
       "        EggNOG  Orthoinspector  Hieranoid_2  EnsemblCompara_v2  PANTHER8_all  \\\n",
       "Q8TEA1      20              38           16                 25            39   \n",
       "A6NIH7      21              22           21                 26            22   \n",
       "Q96HJ5       1               1            5                  4            16   \n",
       "O94913       8               5           20                  5             8   \n",
       "P37837      22              15           25                 14            15   \n",
       "\n",
       "        Metaphors  PhylomeDB        Avg HGT_flag  \n",
       "Q8TEA1         40         41  28.538462     True  \n",
       "A6NIH7         22         25  21.461538    False  \n",
       "Q96HJ5          5          5   2.166667    False  \n",
       "O94913         11          1   6.000000    False  \n",
       "P37837         17         15  18.230769    False  "
      ]
     },
     "execution_count": 9,
     "metadata": {},
     "output_type": "execute_result"
    }
   ],
   "source": [
    "lossTaxa[\"HGT_flag\"] = lossTaxa[\"Avg\"] >= 24.92\n",
    "lossTaxa.head()"
   ]
  },
  {
   "cell_type": "code",
   "execution_count": 9,
   "metadata": {
    "collapsed": false
   },
   "outputs": [],
   "source": [
    "lossTaxa.to_csv(\"HGTFlag_HUMAN.csv\")"
   ]
  },
  {
   "cell_type": "code",
   "execution_count": null,
   "metadata": {
    "collapsed": true
   },
   "outputs": [],
   "source": []
  }
 ],
 "metadata": {
  "kernelspec": {
   "display_name": "Python 2",
   "language": "python",
   "name": "python2"
  },
  "language_info": {
   "codemirror_mode": {
    "name": "ipython",
    "version": 2
   },
   "file_extension": ".py",
   "mimetype": "text/x-python",
   "name": "python",
   "nbconvert_exporter": "python",
   "pygments_lexer": "ipython2",
   "version": "2.7.3"
  }
 },
 "nbformat": 4,
 "nbformat_minor": 0
}
