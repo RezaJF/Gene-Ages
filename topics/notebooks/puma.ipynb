{
 "cells": [
  {
   "cell_type": "markdown",
   "metadata": {},
   "source": [
    "Testing out the puma topic model. Better description pending..."
   ]
  },
  {
   "cell_type": "code",
   "execution_count": 2,
   "metadata": {
    "collapsed": true
   },
   "outputs": [],
   "source": [
    "import numpy as np\n",
    "from collections import namedtuple\n",
    "ProteinComplex = namedtuple(\"ProteinComplex\", [\"Name\", \"Counts\"])\n",
    "%matplotlib inline"
   ]
  },
  {
   "cell_type": "markdown",
   "metadata": {
    "collapsed": true
   },
   "source": [
    "ok, after failing for a while with python's relative imports system and how that interacts with ipython's namespace, I'm giving up at importing the existing *puma.py* module, and I simply recreate it below. This is super sub-optimal and I would love to figure this one out...\n",
    "This is gonna get real sloppy if there's any changes to the code below relative to the code in the module, *really* need to avoid that..."
   ]
  },
  {
   "cell_type": "code",
   "execution_count": 3,
   "metadata": {
    "collapsed": true
   },
   "outputs": [],
   "source": [
    "\n",
    "import numpy.random as r\n",
    "from collections import Counter\n",
    "from itertools import groupby\n",
    "from functools import reduce  \n",
    "\n",
    "class model():\n",
    "    def __init__(self):\n",
    "        pass  \n",
    "    \n",
    "    def simData(self,D):\n",
    "        '''\n",
    "        Simulate some fake data for sanity checks. Data drawn from 3 topics, D documents, with vocabulary of size 4.\n",
    "        Superbly inflexible method for synthetic data generation, but all we need for now.\n",
    "        '''\n",
    "        thetas = [ [.9,.1,0,0],[.25, .25, .25, .25],[0,.1,.1,.8]]\n",
    "        docs = []\n",
    "        for i in range(D):\n",
    "            pr = thetas[r.choice([0,1,2])]\n",
    "            c = Counter(r.choice(range(len(pr)), size= r.poisson(15),p = pr  ))\n",
    "            docs.append( [c.get(s,0) for s in [0,1,2,3] ] )\n",
    "        return docs\n",
    "            \n",
    "        \n",
    "    def probability_doc_given_topics(self,doc,topic_probs):\n",
    "        '''\n",
    "        Given the parameters of a single topic, return likelihood of the doc given the parameters. \n",
    "        Input\n",
    "            doc: List[Int]\n",
    "            topics_probs: List[Double]\n",
    "        '''\n",
    "       \n",
    "        return reduce(lambda a,b:a*b, [b**a for (a,b) in zip(doc,topic_probs)])\n",
    "    \n",
    "    def topicSample(self, doc, params):\n",
    "        '''\n",
    "        Resample the topic label of the doc.\n",
    "        Inputs\n",
    "            doc: List[Int]\n",
    "            params: List[(Int, List[Float])]\n",
    "        '''\n",
    "        probabilities = []\n",
    "        for T in params:\n",
    "            \n",
    "            probabilities.append( self.probability_doc_given_topics(doc[1],T[1]) )\n",
    "        probabilities = [p/float(sum(probabilities)) for p in probabilities]\n",
    "        draw = r.choice(range(len(params)),1,p=probabilities)\n",
    "        return (draw[0], doc[1])\n",
    "    \n",
    "    def parameterSample(self, allData):\n",
    "        '''\n",
    "        Given the document labels, resample the parameters for each topic.\n",
    "        '''\n",
    "        \n",
    "        allData.sort(key = lambda a: a[0])\n",
    "        grouped = [(k, [thing[1] for thing in g]) for k,g in groupby(allData, lambda s: s[0])]\n",
    "        group_counts = [(group[0], reduce(lambda a,b: [a[i] + b[i] for i in range(len(a))]   ,group[1]) ) for group in grouped]\n",
    "        group_probs = [(k, r.dirichlet(c).tolist()) for k,c in group_counts]\n",
    "        return group_probs\n",
    "        \n",
    "        \n",
    "    def run(self,corpus,num_topics, iterations):\n",
    "        '''\n",
    "        Run Gibbs sampler for puma model.\n",
    "        Inputs\n",
    "            corpus: List[List[Int]]\n",
    "            num_topics: Int\n",
    "            iterations: Int\n",
    "        '''\n",
    "        \n",
    "        \n",
    "        #  transform corpus by adding randomized topic labes, resulting in list of (label, [counts])\n",
    "        # ex [ (1, [0,1,0,8]),  (0, [2,5,0,0]), (1, [3,4,9,1])  ]\n",
    "        labeledCorpus = map( lambda c: (r.choice(range(num_topics)) ,c) ,corpus)\n",
    "        \n",
    "        for i in range(iterations):\n",
    "        \n",
    "            # sample the parameters given the labels\n",
    "            topicParameters = self.parameterSample(labeledCorpus)\n",
    "            \n",
    "            # sample the labels given the parameters\n",
    "            labeledCorpus = map(lambda doc: self.topicSample(doc,topicParameters) ,labeledCorpus)\n",
    "            \n",
    "        return topicParameters"
   ]
  },
  {
   "cell_type": "markdown",
   "metadata": {},
   "source": [
    "Here's a function for data ingest"
   ]
  },
  {
   "cell_type": "code",
   "execution_count": 4,
   "metadata": {
    "collapsed": true
   },
   "outputs": [],
   "source": [
    "def dataIngest(filename):\n",
    "    '''\n",
    "    Read in the data, parse it.\n",
    "    Return a list of those ProteinComplex objects, and also the column header names for later use.\n",
    "    '''\n",
    "    with open(filename, \"r\") as inFile:\n",
    "        txt = inFile.read()\n",
    "    lines = txt.split(\"\\n\") \n",
    "    columnNames = lines[0].split(\"\\t\")[1:]\n",
    "    dataset =  [ProteinComplex(line.split(\"\\t\")[0],[float(i) for i in line.split(\"\\t\")[1:]]) for line in lines[1:-1] ] # some rough python...\n",
    "    return dataset, columnNames"
   ]
  },
  {
   "cell_type": "markdown",
   "metadata": {},
   "source": [
    "Now we read in the data file. BJL: Changed int() to float() in dataset assignment line so we can read in dist file."
   ]
  },
  {
   "cell_type": "code",
   "execution_count": 5,
   "metadata": {
    "collapsed": false
   },
   "outputs": [],
   "source": [
    "dataset, columnNames = dataIngest(\"../fixtures/corum_phylome_dist.txt\")\n",
    "vocab_dictionary = dict(zip(range(len(columnNames)), columnNames ))"
   ]
  },
  {
   "cell_type": "markdown",
   "metadata": {},
   "source": [
    "Run the puma model on the data (100 iterations takes a little while)"
   ]
  },
  {
   "cell_type": "code",
   "execution_count": 10,
   "metadata": {
    "collapsed": false
   },
   "outputs": [],
   "source": [
    "corpus = map(lambda l: l[1],dataset)\n",
    "p = model()\n",
    "result = p.run(corpus,num_topics=2, iterations= 100)"
   ]
  },
  {
   "cell_type": "code",
   "execution_count": 11,
   "metadata": {
    "collapsed": false
   },
   "outputs": [
    {
     "name": "stdout",
     "output_type": "stream",
     "text": [
      "[(0, [0.10685832033764055, 0.038711571075564034, 0.07449852063742521, 0.38172085942301787, 0.09451596151201945, 0.01532083361217681, 0.11249249620227052, 0.09879102051303144, 0.07709041668685415]), (1, [0.08237483202153577, 0.03184919894037846, 0.07586618736863462, 0.35918507914003917, 0.09234315291241421, 0.013051842634610353, 0.17260081683115064, 0.11242703446157715, 0.060301855689659706])]\n"
     ]
    }
   ],
   "source": [
    "print result"
   ]
  },
  {
   "cell_type": "markdown",
   "metadata": {},
   "source": [
    "So those are the topics, none too pretty, let's do some visualization. "
   ]
  },
  {
   "cell_type": "code",
   "execution_count": 12,
   "metadata": {
    "collapsed": false
   },
   "outputs": [],
   "source": [
    "import matplotlib.pyplot as plt\n",
    "plt.rcParams['figure.figsize'] = 12, 10 #this changes the size of figures in this notebook"
   ]
  },
  {
   "cell_type": "code",
   "execution_count": 13,
   "metadata": {
    "collapsed": false
   },
   "outputs": [
    {
     "data": {
      "image/png": "[encoded data removed]",
      "text/plain": [
       "<matplotlib.figure.Figure at 0xa26a4ec>"
      ]
     },
     "metadata": {},
     "output_type": "display_data"
    }
   ],
   "source": [
    "plt.figure(2)\n",
    "bar_width = 0.5\n",
    "\n",
    "for i in result:\n",
    "    topicIndex,topicParams = i[0],i[1]\n",
    "    index = np.arange(len(topicParams))\n",
    "    loc = int(\"41\" + str(topicIndex + 1))\n",
    "    plt.subplot(loc)\n",
    "    plt.bar(index,result[topicIndex][1], bar_width)\n",
    "    plt.xticks(index + bar_width/2, vocab_dictionary.values())\n",
    "    plt.yticks(np.arange(0,.5,.05))\n",
    "    topicName = \"Topic \" + str(topicIndex)\n",
    "    plt.title(topicName)\n",
    "\n",
    "plt.show()"
   ]
  },
  {
   "cell_type": "markdown",
   "metadata": {},
   "source": [
    "BJL: How's that?"
   ]
  },
  {
   "cell_type": "markdown",
   "metadata": {},
   "source": [
    "**Methods**\n",
    "\n",
    "When I get a chance, I'll write out the full details of this Bayesian latent variable model and what this Gibbs sampler is doing."
   ]
  },
  {
   "cell_type": "code",
   "execution_count": null,
   "metadata": {
    "collapsed": true
   },
   "outputs": [],
   "source": []
  }
 ],
 "metadata": {
  "kernelspec": {
   "display_name": "Python 2",
   "language": "python",
   "name": "python2"
  },
  "language_info": {
   "codemirror_mode": {
    "name": "ipython",
    "version": 2
   },
   "file_extension": ".py",
   "mimetype": "text/x-python",
   "name": "python",
   "nbconvert_exporter": "python",
   "pygments_lexer": "ipython2",
   "version": "2.7.3"
  }
 },
 "nbformat": 4,
 "nbformat_minor": 0
}
